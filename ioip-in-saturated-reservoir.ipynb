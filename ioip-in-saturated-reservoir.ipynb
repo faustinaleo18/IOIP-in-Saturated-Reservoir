{
  "cells": [
    {
      "cell_type": "markdown",
      "source": [
        "### Input the parameter "
      ],
      "metadata": {
        "id": "9-JaFLdzS65U"
      }
    },
    {
      "cell_type": "code",
      "execution_count": 1,
      "metadata": {
        "colab": {
          "base_uri": "https://localhost:8080/"
        },
        "id": "bBEvneO3XwsY",
        "outputId": "004a4df3-8c65-43eb-ae18-09e79ab6af2c"
      },
      "outputs": [
        {
          "name": "stdout",
          "output_type": "stream",
          "text": [
            "Enter your GOR: 721\n",
            "Enter your time initial: 1\n",
            "Enter your time final: 9\n"
          ]
        }
      ],
      "source": [
        "gor = int(input(\"Enter your GOR: \"))\n",
        "time_init = int(input(\"Enter your time initial: \"))\n",
        "time_final = int(input(\"Enter your time final: \"))"
      ]
    },
    {
      "cell_type": "markdown",
      "source": [
        "### Algorithm for IOIP calculation"
      ],
      "metadata": {
        "id": "3spmuFQyTADN"
      }
    },
    {
      "cell_type": "markdown",
      "source": [
        "First, let's import NumPy library"
      ],
      "metadata": {
        "id": "VP-Ly-GkTQ0T"
      }
    },
    {
      "cell_type": "code",
      "execution_count": 2,
      "metadata": {
        "id": "SQ-2heX0Xwsh"
      },
      "outputs": [],
      "source": [
        "import numpy as np"
      ]
    },
    {
      "cell_type": "markdown",
      "source": [
        "Make algorithm for the time code"
      ],
      "metadata": {
        "id": "jvlPZiSVTYXN"
      }
    },
    {
      "cell_type": "code",
      "execution_count": 3,
      "metadata": {
        "id": "iMH_xl3AXwsj"
      },
      "outputs": [],
      "source": [
        "list_time = [1]\n",
        "\n",
        "time = time_init\n",
        "while time < time_final:\n",
        "    time += 1\n",
        "    list_time.append(time)"
      ]
    },
    {
      "cell_type": "code",
      "execution_count": 4,
      "metadata": {
        "id": "y2acpSnAXwsl"
      },
      "outputs": [],
      "source": [
        "list_bt = [1.4980, 1.5320, 1.5620, 1.6210, 1.7010, 1.8170, 1.9670, 2.1110, 2.2510]\n",
        "list_bg = [1.0480, 1.1550, 1.2800, 1.4410, 1.6340, 1.8840, 2.2060, 2.4330, 2.6540]\n",
        "list_rp = [0, 725, 738, 809, 1012, 1223, 1424, 1561, 1695]\n",
        "list_np = [0, 1882, 4976, 7292, 11126, 12858, 15501, 16016, 17394]"
      ]
    },
    {
      "cell_type": "markdown",
      "source": [
        "This code below was the data that we know first"
      ],
      "metadata": {
        "id": "E2I21oyhTeGU"
      }
    },
    {
      "cell_type": "code",
      "execution_count": 5,
      "metadata": {
        "colab": {
          "base_uri": "https://localhost:8080/"
        },
        "id": "TAC97FhjXwsm",
        "outputId": "f740b3ee-6e06-4bbc-edd4-a0e92cdd212c"
      },
      "outputs": [
        {
          "output_type": "stream",
          "name": "stdout",
          "text": [
            "[1, 2, 3, 4, 5, 6, 7, 8, 9]\n",
            "[1.498, 1.532, 1.562, 1.621, 1.701, 1.817, 1.967, 2.111, 2.251]\n",
            "[1.048, 1.155, 1.28, 1.441, 1.634, 1.884, 2.206, 2.433, 2.654]\n",
            "[0, 725, 738, 809, 1012, 1223, 1424, 1561, 1695]\n",
            "[0, 1882, 4976, 7292, 11126, 12858, 15501, 16016, 17394]\n"
          ]
        }
      ],
      "source": [
        "print(list_time)\n",
        "print(list_bt)\n",
        "print(list_bg)\n",
        "print(list_rp)\n",
        "print(list_np)"
      ]
    },
    {
      "cell_type": "markdown",
      "source": [
        "Import pandas library"
      ],
      "metadata": {
        "id": "oH88MGC7ToEt"
      }
    },
    {
      "cell_type": "code",
      "execution_count": 6,
      "metadata": {
        "id": "CIgbebzdXwsp"
      },
      "outputs": [],
      "source": [
        "import pandas as pd"
      ]
    },
    {
      "cell_type": "markdown",
      "source": [
        "Make a tabular data"
      ],
      "metadata": {
        "id": "teqlcsaRTrYk"
      }
    },
    {
      "cell_type": "code",
      "execution_count": 7,
      "metadata": {
        "id": "bCP08LPAXwsr"
      },
      "outputs": [],
      "source": [
        "array = np.array((list_time, list_bt, list_bg, list_rp, list_np))\n",
        "\n",
        "data = pd.DataFrame(array.transpose(), columns=[\"Time Code\", \"Bt (rb/stb)\", \"Bg (rb/mcf)\", \"Rp (scf/stb)\", \"Np (mstb)\"])"
      ]
    },
    {
      "cell_type": "code",
      "execution_count": 8,
      "metadata": {
        "colab": {
          "base_uri": "https://localhost:8080/"
        },
        "id": "LejYFKgwXwst",
        "outputId": "a689c5a3-2b0c-45db-f2f1-cd79425af753"
      },
      "outputs": [
        {
          "output_type": "stream",
          "name": "stdout",
          "text": [
            "   Time Code  Bt (rb/stb)  Bg (rb/mcf)  Rp (scf/stb)  Np (mstb)\n",
            "0        1.0        1.498        1.048           0.0        0.0\n",
            "1        2.0        1.532        1.155         725.0     1882.0\n",
            "2        3.0        1.562        1.280         738.0     4976.0\n",
            "3        4.0        1.621        1.441         809.0     7292.0\n",
            "4        5.0        1.701        1.634        1012.0    11126.0\n",
            "5        6.0        1.817        1.884        1223.0    12858.0\n",
            "6        7.0        1.967        2.206        1424.0    15501.0\n",
            "7        8.0        2.111        2.433        1561.0    16016.0\n",
            "8        9.0        2.251        2.654        1695.0    17394.0\n"
          ]
        }
      ],
      "source": [
        "print(data)"
      ]
    },
    {
      "cell_type": "markdown",
      "source": [
        "And still continue to make algorithm from IOIP calculation"
      ],
      "metadata": {
        "id": "2qm7Pjz4TxRu"
      }
    },
    {
      "cell_type": "markdown",
      "source": [
        "Determine F equation"
      ],
      "metadata": {
        "id": "J7X4ihwqWqmo"
      }
    },
    {
      "cell_type": "code",
      "execution_count": 9,
      "metadata": {
        "id": "xUMEU7qtXwsv"
      },
      "outputs": [],
      "source": [
        "def F(np, bt, bg, rp, gor):\n",
        "    return np * (bt + (bg / 1000) * (rp - gor))"
      ]
    },
    {
      "cell_type": "markdown",
      "source": [
        "Initiate the bti parameter"
      ],
      "metadata": {
        "id": "zlQIxqteWtlf"
      }
    },
    {
      "cell_type": "code",
      "source": [
        "bti = list_bt[0]\n",
        "print(bti)"
      ],
      "metadata": {
        "colab": {
          "base_uri": "https://localhost:8080/"
        },
        "id": "LddYPiUaa60s",
        "outputId": "aa57918f-a7c7-4987-8591-044571edacd7"
      },
      "execution_count": 10,
      "outputs": [
        {
          "output_type": "stream",
          "name": "stdout",
          "text": [
            "1.498\n"
          ]
        }
      ]
    },
    {
      "cell_type": "markdown",
      "source": [
        "Determine Eo equation"
      ],
      "metadata": {
        "id": "YxX0bEZ9W3Sw"
      }
    },
    {
      "cell_type": "code",
      "execution_count": 11,
      "metadata": {
        "id": "nbTaXO9yXws0"
      },
      "outputs": [],
      "source": [
        "def eo(bt, bti):\n",
        "    return bt - bti     "
      ]
    },
    {
      "cell_type": "code",
      "execution_count": 12,
      "metadata": {
        "colab": {
          "base_uri": "https://localhost:8080/"
        },
        "id": "_sEAGLHLXws1",
        "outputId": "505b1865-5fcf-47ae-daa5-b8f07d24208e"
      },
      "outputs": [
        {
          "output_type": "stream",
          "name": "stdout",
          "text": [
            "[0, 2891.9188400000003, 7880.789760000001, 12745.015936, 24215.672243999998, 35523.670944, 54529.696818000004, 66541.99552, 84117.314424]\n",
            "[0, 0.03400000000000003, 0.06400000000000006, 0.123, 0.20300000000000007, 0.31899999999999995, 0.4690000000000001, 0.6130000000000002, 0.7529999999999999]\n"
          ]
        }
      ],
      "source": [
        "list_f = [0]\n",
        "list_eo = [0]\n",
        "i = 1\n",
        "while i in range (time_init, time_final):\n",
        "    list_f.append(F(list_np[i], list_bt[i], list_bg[i], list_rp[i], gor))\n",
        "    list_eo.append(eo(list_bt[i], bti))\n",
        "    i += 1\n",
        "    \n",
        "print(list_f)\n",
        "print(list_eo)"
      ]
    },
    {
      "cell_type": "markdown",
      "source": [
        "Make a tabular data again by added columns"
      ],
      "metadata": {
        "id": "OidwdBfDUB_1"
      }
    },
    {
      "cell_type": "code",
      "source": [
        "array = np.array((list_time, list_bt, list_bg, list_rp, list_np, list_f, list_eo))\n",
        "\n",
        "x_and_y = pd.DataFrame(array.transpose(), columns=[\"Time Code\", \"Bt (rb/stb)\", \"Bg (rb/mcf)\", \"Rp (scf/stb)\", \"Np (mstb)\", \"F (mstb)\", \"Eo (bbl/stb)\"])\n",
        "x_and_y"
      ],
      "metadata": {
        "colab": {
          "base_uri": "https://localhost:8080/",
          "height": 332
        },
        "id": "Q8nPDH2VbpdW",
        "outputId": "ec7decb2-55a0-4495-e1f3-92f03db53f99"
      },
      "execution_count": 13,
      "outputs": [
        {
          "output_type": "execute_result",
          "data": {
            "text/html": [
              "\n",
              "  <div id=\"df-65537f47-0c18-420c-90e5-387b40114f80\">\n",
              "    <div class=\"colab-df-container\">\n",
              "      <div>\n",
              "<style scoped>\n",
              "    .dataframe tbody tr th:only-of-type {\n",
              "        vertical-align: middle;\n",
              "    }\n",
              "\n",
              "    .dataframe tbody tr th {\n",
              "        vertical-align: top;\n",
              "    }\n",
              "\n",
              "    .dataframe thead th {\n",
              "        text-align: right;\n",
              "    }\n",
              "</style>\n",
              "<table border=\"1\" class=\"dataframe\">\n",
              "  <thead>\n",
              "    <tr style=\"text-align: right;\">\n",
              "      <th></th>\n",
              "      <th>Time Code</th>\n",
              "      <th>Bt (rb/stb)</th>\n",
              "      <th>Bg (rb/mcf)</th>\n",
              "      <th>Rp (scf/stb)</th>\n",
              "      <th>Np (mstb)</th>\n",
              "      <th>F (mstb)</th>\n",
              "      <th>Eo (bbl/stb)</th>\n",
              "    </tr>\n",
              "  </thead>\n",
              "  <tbody>\n",
              "    <tr>\n",
              "      <th>0</th>\n",
              "      <td>1.0</td>\n",
              "      <td>1.498</td>\n",
              "      <td>1.048</td>\n",
              "      <td>0.0</td>\n",
              "      <td>0.0</td>\n",
              "      <td>0.000000</td>\n",
              "      <td>0.000</td>\n",
              "    </tr>\n",
              "    <tr>\n",
              "      <th>1</th>\n",
              "      <td>2.0</td>\n",
              "      <td>1.532</td>\n",
              "      <td>1.155</td>\n",
              "      <td>725.0</td>\n",
              "      <td>1882.0</td>\n",
              "      <td>2891.918840</td>\n",
              "      <td>0.034</td>\n",
              "    </tr>\n",
              "    <tr>\n",
              "      <th>2</th>\n",
              "      <td>3.0</td>\n",
              "      <td>1.562</td>\n",
              "      <td>1.280</td>\n",
              "      <td>738.0</td>\n",
              "      <td>4976.0</td>\n",
              "      <td>7880.789760</td>\n",
              "      <td>0.064</td>\n",
              "    </tr>\n",
              "    <tr>\n",
              "      <th>3</th>\n",
              "      <td>4.0</td>\n",
              "      <td>1.621</td>\n",
              "      <td>1.441</td>\n",
              "      <td>809.0</td>\n",
              "      <td>7292.0</td>\n",
              "      <td>12745.015936</td>\n",
              "      <td>0.123</td>\n",
              "    </tr>\n",
              "    <tr>\n",
              "      <th>4</th>\n",
              "      <td>5.0</td>\n",
              "      <td>1.701</td>\n",
              "      <td>1.634</td>\n",
              "      <td>1012.0</td>\n",
              "      <td>11126.0</td>\n",
              "      <td>24215.672244</td>\n",
              "      <td>0.203</td>\n",
              "    </tr>\n",
              "    <tr>\n",
              "      <th>5</th>\n",
              "      <td>6.0</td>\n",
              "      <td>1.817</td>\n",
              "      <td>1.884</td>\n",
              "      <td>1223.0</td>\n",
              "      <td>12858.0</td>\n",
              "      <td>35523.670944</td>\n",
              "      <td>0.319</td>\n",
              "    </tr>\n",
              "    <tr>\n",
              "      <th>6</th>\n",
              "      <td>7.0</td>\n",
              "      <td>1.967</td>\n",
              "      <td>2.206</td>\n",
              "      <td>1424.0</td>\n",
              "      <td>15501.0</td>\n",
              "      <td>54529.696818</td>\n",
              "      <td>0.469</td>\n",
              "    </tr>\n",
              "    <tr>\n",
              "      <th>7</th>\n",
              "      <td>8.0</td>\n",
              "      <td>2.111</td>\n",
              "      <td>2.433</td>\n",
              "      <td>1561.0</td>\n",
              "      <td>16016.0</td>\n",
              "      <td>66541.995520</td>\n",
              "      <td>0.613</td>\n",
              "    </tr>\n",
              "    <tr>\n",
              "      <th>8</th>\n",
              "      <td>9.0</td>\n",
              "      <td>2.251</td>\n",
              "      <td>2.654</td>\n",
              "      <td>1695.0</td>\n",
              "      <td>17394.0</td>\n",
              "      <td>84117.314424</td>\n",
              "      <td>0.753</td>\n",
              "    </tr>\n",
              "  </tbody>\n",
              "</table>\n",
              "</div>\n",
              "      <button class=\"colab-df-convert\" onclick=\"convertToInteractive('df-65537f47-0c18-420c-90e5-387b40114f80')\"\n",
              "              title=\"Convert this dataframe to an interactive table.\"\n",
              "              style=\"display:none;\">\n",
              "        \n",
              "  <svg xmlns=\"http://www.w3.org/2000/svg\" height=\"24px\"viewBox=\"0 0 24 24\"\n",
              "       width=\"24px\">\n",
              "    <path d=\"M0 0h24v24H0V0z\" fill=\"none\"/>\n",
              "    <path d=\"M18.56 5.44l.94 2.06.94-2.06 2.06-.94-2.06-.94-.94-2.06-.94 2.06-2.06.94zm-11 1L8.5 8.5l.94-2.06 2.06-.94-2.06-.94L8.5 2.5l-.94 2.06-2.06.94zm10 10l.94 2.06.94-2.06 2.06-.94-2.06-.94-.94-2.06-.94 2.06-2.06.94z\"/><path d=\"M17.41 7.96l-1.37-1.37c-.4-.4-.92-.59-1.43-.59-.52 0-1.04.2-1.43.59L10.3 9.45l-7.72 7.72c-.78.78-.78 2.05 0 2.83L4 21.41c.39.39.9.59 1.41.59.51 0 1.02-.2 1.41-.59l7.78-7.78 2.81-2.81c.8-.78.8-2.07 0-2.86zM5.41 20L4 18.59l7.72-7.72 1.47 1.35L5.41 20z\"/>\n",
              "  </svg>\n",
              "      </button>\n",
              "      \n",
              "  <style>\n",
              "    .colab-df-container {\n",
              "      display:flex;\n",
              "      flex-wrap:wrap;\n",
              "      gap: 12px;\n",
              "    }\n",
              "\n",
              "    .colab-df-convert {\n",
              "      background-color: #E8F0FE;\n",
              "      border: none;\n",
              "      border-radius: 50%;\n",
              "      cursor: pointer;\n",
              "      display: none;\n",
              "      fill: #1967D2;\n",
              "      height: 32px;\n",
              "      padding: 0 0 0 0;\n",
              "      width: 32px;\n",
              "    }\n",
              "\n",
              "    .colab-df-convert:hover {\n",
              "      background-color: #E2EBFA;\n",
              "      box-shadow: 0px 1px 2px rgba(60, 64, 67, 0.3), 0px 1px 3px 1px rgba(60, 64, 67, 0.15);\n",
              "      fill: #174EA6;\n",
              "    }\n",
              "\n",
              "    [theme=dark] .colab-df-convert {\n",
              "      background-color: #3B4455;\n",
              "      fill: #D2E3FC;\n",
              "    }\n",
              "\n",
              "    [theme=dark] .colab-df-convert:hover {\n",
              "      background-color: #434B5C;\n",
              "      box-shadow: 0px 1px 3px 1px rgba(0, 0, 0, 0.15);\n",
              "      filter: drop-shadow(0px 1px 2px rgba(0, 0, 0, 0.3));\n",
              "      fill: #FFFFFF;\n",
              "    }\n",
              "  </style>\n",
              "\n",
              "      <script>\n",
              "        const buttonEl =\n",
              "          document.querySelector('#df-65537f47-0c18-420c-90e5-387b40114f80 button.colab-df-convert');\n",
              "        buttonEl.style.display =\n",
              "          google.colab.kernel.accessAllowed ? 'block' : 'none';\n",
              "\n",
              "        async function convertToInteractive(key) {\n",
              "          const element = document.querySelector('#df-65537f47-0c18-420c-90e5-387b40114f80');\n",
              "          const dataTable =\n",
              "            await google.colab.kernel.invokeFunction('convertToInteractive',\n",
              "                                                     [key], {});\n",
              "          if (!dataTable) return;\n",
              "\n",
              "          const docLinkHtml = 'Like what you see? Visit the ' +\n",
              "            '<a target=\"_blank\" href=https://colab.research.google.com/notebooks/data_table.ipynb>data table notebook</a>'\n",
              "            + ' to learn more about interactive tables.';\n",
              "          element.innerHTML = '';\n",
              "          dataTable['output_type'] = 'display_data';\n",
              "          await google.colab.output.renderOutput(dataTable, element);\n",
              "          const docLink = document.createElement('div');\n",
              "          docLink.innerHTML = docLinkHtml;\n",
              "          element.appendChild(docLink);\n",
              "        }\n",
              "      </script>\n",
              "    </div>\n",
              "  </div>\n",
              "  "
            ],
            "text/plain": [
              "   Time Code  Bt (rb/stb)  Bg (rb/mcf)  ...  Np (mstb)      F (mstb)  Eo (bbl/stb)\n",
              "0        1.0        1.498        1.048  ...        0.0      0.000000         0.000\n",
              "1        2.0        1.532        1.155  ...     1882.0   2891.918840         0.034\n",
              "2        3.0        1.562        1.280  ...     4976.0   7880.789760         0.064\n",
              "3        4.0        1.621        1.441  ...     7292.0  12745.015936         0.123\n",
              "4        5.0        1.701        1.634  ...    11126.0  24215.672244         0.203\n",
              "5        6.0        1.817        1.884  ...    12858.0  35523.670944         0.319\n",
              "6        7.0        1.967        2.206  ...    15501.0  54529.696818         0.469\n",
              "7        8.0        2.111        2.433  ...    16016.0  66541.995520         0.613\n",
              "8        9.0        2.251        2.654  ...    17394.0  84117.314424         0.753\n",
              "\n",
              "[9 rows x 7 columns]"
            ]
          },
          "metadata": {},
          "execution_count": 13
        }
      ]
    },
    {
      "cell_type": "markdown",
      "source": [
        "### Graph"
      ],
      "metadata": {
        "id": "nyWIeUmU3zLJ"
      }
    },
    {
      "cell_type": "markdown",
      "source": [
        "For make a scatter plot, we have to import matplotlib library"
      ],
      "metadata": {
        "id": "wv0DSarOUZe8"
      }
    },
    {
      "cell_type": "code",
      "execution_count": 14,
      "metadata": {
        "id": "2nasMrikXws5"
      },
      "outputs": [],
      "source": [
        "import matplotlib.pyplot as plt"
      ]
    },
    {
      "cell_type": "code",
      "source": [
        "plt.scatter(list_eo, list_f, c=\"#f765a3\")\n",
        "plt.title('F vs Eo')\n",
        "plt.xlabel('Eo (bbl/stb)')\n",
        "plt.ylabel('F (mstb)')\n",
        "\n",
        "plt.show()"
      ],
      "metadata": {
        "colab": {
          "base_uri": "https://localhost:8080/",
          "height": 295
        },
        "id": "qK5HdB4VdsNX",
        "outputId": "31e6bbea-6814-4b2f-a849-e15bf764c61b"
      },
      "execution_count": 15,
      "outputs": [
        {
          "output_type": "display_data",
          "data": {
            "image/png": "[encoded data removed]",
            "text/plain": [
              "<Figure size 432x288 with 1 Axes>"
            ]
          },
          "metadata": {
            "needs_background": "light"
          }
        }
      ]
    },
    {
      "cell_type": "markdown",
      "source": [
        "### Trendline"
      ],
      "metadata": {
        "id": "IoyXDoPmnG2K"
      }
    },
    {
      "cell_type": "markdown",
      "source": [
        "This below code was not mandatory for the upcoming code, but if you want to save the graph you can use this library below"
      ],
      "metadata": {
        "id": "tPv6zChjUgK1"
      }
    },
    {
      "cell_type": "code",
      "source": [
        "from google.colab import files"
      ],
      "metadata": {
        "id": "Oymx9JiF6kCs"
      },
      "execution_count": 16,
      "outputs": []
    },
    {
      "cell_type": "markdown",
      "source": [
        "To make a trendline from the graph that we have made before, we use numpy polyfit and poly1d. As you can see from this below code there are comments code that we can save the picture of the graph, but remember this is optional"
      ],
      "metadata": {
        "id": "i_EuQ-LYUuuU"
      }
    },
    {
      "cell_type": "code",
      "source": [
        "plt.scatter(list_eo, list_f, c=\"#f765a3\")\n",
        "plt.title('F vs Eo')\n",
        "plt.xlabel('Eo (bbl/stb)')\n",
        "plt.ylabel('F (mstb)')\n",
        "\n",
        "z = np.polyfit(list_eo, list_f, 1)\n",
        "p = np.poly1d(z)\n",
        "plt.plot(list_eo,p(list_eo),\"r--\")\n",
        "\n",
        "# plt.savefig(\"F_vs_Eo_in_1000_px.png\", dpi=100)\n",
        "# files.download(\"F_vs_Eo_in_1000_px.png\")\n",
        "plt.show()"
      ],
      "metadata": {
        "colab": {
          "base_uri": "https://localhost:8080/",
          "height": 295
        },
        "id": "Iy_La0k20lxG",
        "outputId": "81626de7-4623-4f5a-b474-123a9db2551c"
      },
      "execution_count": 17,
      "outputs": [
        {
          "output_type": "display_data",
          "data": {
            "image/png": "[encoded data removed]",
            "text/plain": [
              "<Figure size 432x288 with 1 Axes>"
            ]
          },
          "metadata": {
            "needs_background": "light"
          }
        }
      ]
    },
    {
      "cell_type": "markdown",
      "source": [
        "Here you can see the trendline and also download the images of the graph"
      ],
      "metadata": {
        "id": "Wo72KpSJ6rE8"
      }
    },
    {
      "cell_type": "markdown",
      "source": [
        "### Linear Regression"
      ],
      "metadata": {
        "id": "ypqITMOKq1sW"
      }
    },
    {
      "cell_type": "markdown",
      "source": [
        "From this section started from make algorithm from linear regression concept, by made new variable for time code, Eo as xi, and F as yi"
      ],
      "metadata": {
        "id": "AsEqWdf1Ve4X"
      }
    },
    {
      "cell_type": "code",
      "source": [
        "i = list_time\n",
        "xi = list_eo\n",
        "yi = list_f"
      ],
      "metadata": {
        "id": "pkQnMXijq4yn"
      },
      "execution_count": 18,
      "outputs": []
    },
    {
      "cell_type": "markdown",
      "source": [
        "And then make a new tabular data from the data we have found before"
      ],
      "metadata": {
        "id": "HXKbMf8cVxzt"
      }
    },
    {
      "cell_type": "code",
      "source": [
        "new_array = np.array((i, xi, yi))\n",
        "new_data = pd.DataFrame(new_array.transpose(), columns=[\"Time\", \"Xi\", \"Yi\"])\n",
        "\n",
        "new_data"
      ],
      "metadata": {
        "colab": {
          "base_uri": "https://localhost:8080/",
          "height": 332
        },
        "id": "sVxTkuSBA9xu",
        "outputId": "d276cf3d-a1b0-4aae-ca9e-c5d2d49ba0fb"
      },
      "execution_count": 19,
      "outputs": [
        {
          "output_type": "execute_result",
          "data": {
            "text/html": [
              "\n",
              "  <div id=\"df-473c6be1-7b23-467d-be6a-770faf8bd9b7\">\n",
              "    <div class=\"colab-df-container\">\n",
              "      <div>\n",
              "<style scoped>\n",
              "    .dataframe tbody tr th:only-of-type {\n",
              "        vertical-align: middle;\n",
              "    }\n",
              "\n",
              "    .dataframe tbody tr th {\n",
              "        vertical-align: top;\n",
              "    }\n",
              "\n",
              "    .dataframe thead th {\n",
              "        text-align: right;\n",
              "    }\n",
              "</style>\n",
              "<table border=\"1\" class=\"dataframe\">\n",
              "  <thead>\n",
              "    <tr style=\"text-align: right;\">\n",
              "      <th></th>\n",
              "      <th>Time</th>\n",
              "      <th>Xi</th>\n",
              "      <th>Yi</th>\n",
              "    </tr>\n",
              "  </thead>\n",
              "  <tbody>\n",
              "    <tr>\n",
              "      <th>0</th>\n",
              "      <td>1.0</td>\n",
              "      <td>0.000</td>\n",
              "      <td>0.000000</td>\n",
              "    </tr>\n",
              "    <tr>\n",
              "      <th>1</th>\n",
              "      <td>2.0</td>\n",
              "      <td>0.034</td>\n",
              "      <td>2891.918840</td>\n",
              "    </tr>\n",
              "    <tr>\n",
              "      <th>2</th>\n",
              "      <td>3.0</td>\n",
              "      <td>0.064</td>\n",
              "      <td>7880.789760</td>\n",
              "    </tr>\n",
              "    <tr>\n",
              "      <th>3</th>\n",
              "      <td>4.0</td>\n",
              "      <td>0.123</td>\n",
              "      <td>12745.015936</td>\n",
              "    </tr>\n",
              "    <tr>\n",
              "      <th>4</th>\n",
              "      <td>5.0</td>\n",
              "      <td>0.203</td>\n",
              "      <td>24215.672244</td>\n",
              "    </tr>\n",
              "    <tr>\n",
              "      <th>5</th>\n",
              "      <td>6.0</td>\n",
              "      <td>0.319</td>\n",
              "      <td>35523.670944</td>\n",
              "    </tr>\n",
              "    <tr>\n",
              "      <th>6</th>\n",
              "      <td>7.0</td>\n",
              "      <td>0.469</td>\n",
              "      <td>54529.696818</td>\n",
              "    </tr>\n",
              "    <tr>\n",
              "      <th>7</th>\n",
              "      <td>8.0</td>\n",
              "      <td>0.613</td>\n",
              "      <td>66541.995520</td>\n",
              "    </tr>\n",
              "    <tr>\n",
              "      <th>8</th>\n",
              "      <td>9.0</td>\n",
              "      <td>0.753</td>\n",
              "      <td>84117.314424</td>\n",
              "    </tr>\n",
              "  </tbody>\n",
              "</table>\n",
              "</div>\n",
              "      <button class=\"colab-df-convert\" onclick=\"convertToInteractive('df-473c6be1-7b23-467d-be6a-770faf8bd9b7')\"\n",
              "              title=\"Convert this dataframe to an interactive table.\"\n",
              "              style=\"display:none;\">\n",
              "        \n",
              "  <svg xmlns=\"http://www.w3.org/2000/svg\" height=\"24px\"viewBox=\"0 0 24 24\"\n",
              "       width=\"24px\">\n",
              "    <path d=\"M0 0h24v24H0V0z\" fill=\"none\"/>\n",
              "    <path d=\"M18.56 5.44l.94 2.06.94-2.06 2.06-.94-2.06-.94-.94-2.06-.94 2.06-2.06.94zm-11 1L8.5 8.5l.94-2.06 2.06-.94-2.06-.94L8.5 2.5l-.94 2.06-2.06.94zm10 10l.94 2.06.94-2.06 2.06-.94-2.06-.94-.94-2.06-.94 2.06-2.06.94z\"/><path d=\"M17.41 7.96l-1.37-1.37c-.4-.4-.92-.59-1.43-.59-.52 0-1.04.2-1.43.59L10.3 9.45l-7.72 7.72c-.78.78-.78 2.05 0 2.83L4 21.41c.39.39.9.59 1.41.59.51 0 1.02-.2 1.41-.59l7.78-7.78 2.81-2.81c.8-.78.8-2.07 0-2.86zM5.41 20L4 18.59l7.72-7.72 1.47 1.35L5.41 20z\"/>\n",
              "  </svg>\n",
              "      </button>\n",
              "      \n",
              "  <style>\n",
              "    .colab-df-container {\n",
              "      display:flex;\n",
              "      flex-wrap:wrap;\n",
              "      gap: 12px;\n",
              "    }\n",
              "\n",
              "    .colab-df-convert {\n",
              "      background-color: #E8F0FE;\n",
              "      border: none;\n",
              "      border-radius: 50%;\n",
              "      cursor: pointer;\n",
              "      display: none;\n",
              "      fill: #1967D2;\n",
              "      height: 32px;\n",
              "      padding: 0 0 0 0;\n",
              "      width: 32px;\n",
              "    }\n",
              "\n",
              "    .colab-df-convert:hover {\n",
              "      background-color: #E2EBFA;\n",
              "      box-shadow: 0px 1px 2px rgba(60, 64, 67, 0.3), 0px 1px 3px 1px rgba(60, 64, 67, 0.15);\n",
              "      fill: #174EA6;\n",
              "    }\n",
              "\n",
              "    [theme=dark] .colab-df-convert {\n",
              "      background-color: #3B4455;\n",
              "      fill: #D2E3FC;\n",
              "    }\n",
              "\n",
              "    [theme=dark] .colab-df-convert:hover {\n",
              "      background-color: #434B5C;\n",
              "      box-shadow: 0px 1px 3px 1px rgba(0, 0, 0, 0.15);\n",
              "      filter: drop-shadow(0px 1px 2px rgba(0, 0, 0, 0.3));\n",
              "      fill: #FFFFFF;\n",
              "    }\n",
              "  </style>\n",
              "\n",
              "      <script>\n",
              "        const buttonEl =\n",
              "          document.querySelector('#df-473c6be1-7b23-467d-be6a-770faf8bd9b7 button.colab-df-convert');\n",
              "        buttonEl.style.display =\n",
              "          google.colab.kernel.accessAllowed ? 'block' : 'none';\n",
              "\n",
              "        async function convertToInteractive(key) {\n",
              "          const element = document.querySelector('#df-473c6be1-7b23-467d-be6a-770faf8bd9b7');\n",
              "          const dataTable =\n",
              "            await google.colab.kernel.invokeFunction('convertToInteractive',\n",
              "                                                     [key], {});\n",
              "          if (!dataTable) return;\n",
              "\n",
              "          const docLinkHtml = 'Like what you see? Visit the ' +\n",
              "            '<a target=\"_blank\" href=https://colab.research.google.com/notebooks/data_table.ipynb>data table notebook</a>'\n",
              "            + ' to learn more about interactive tables.';\n",
              "          element.innerHTML = '';\n",
              "          dataTable['output_type'] = 'display_data';\n",
              "          await google.colab.output.renderOutput(dataTable, element);\n",
              "          const docLink = document.createElement('div');\n",
              "          docLink.innerHTML = docLinkHtml;\n",
              "          element.appendChild(docLink);\n",
              "        }\n",
              "      </script>\n",
              "    </div>\n",
              "  </div>\n",
              "  "
            ],
            "text/plain": [
              "   Time     Xi            Yi\n",
              "0   1.0  0.000      0.000000\n",
              "1   2.0  0.034   2891.918840\n",
              "2   3.0  0.064   7880.789760\n",
              "3   4.0  0.123  12745.015936\n",
              "4   5.0  0.203  24215.672244\n",
              "5   6.0  0.319  35523.670944\n",
              "6   7.0  0.469  54529.696818\n",
              "7   8.0  0.613  66541.995520\n",
              "8   9.0  0.753  84117.314424"
            ]
          },
          "metadata": {},
          "execution_count": 19
        }
      ]
    },
    {
      "cell_type": "markdown",
      "source": [
        "It still continues to determine x^2 and xi.yi equation"
      ],
      "metadata": {
        "id": "h1IO_N0oV5x3"
      }
    },
    {
      "cell_type": "code",
      "source": [
        "def x_squared(xi):\n",
        "    return xi ** 2"
      ],
      "metadata": {
        "id": "kIJqSydaq7Az"
      },
      "execution_count": 20,
      "outputs": []
    },
    {
      "cell_type": "code",
      "source": [
        "def sigma_x_multiply_y(xi, yi):\n",
        "    return xi * yi"
      ],
      "metadata": {
        "id": "fO1CAAqOrVxX"
      },
      "execution_count": 21,
      "outputs": []
    },
    {
      "cell_type": "code",
      "source": [
        "xi_squared = [0]\n",
        "sigma_xi_multiply_yi = [0]\n",
        "order = 1\n",
        "while order in range (time_init, time_final):\n",
        "    xi_squared.append(x_squared(xi[order]))\n",
        "    sigma_xi_multiply_yi.append(sigma_x_multiply_y(xi[order], yi[order]))\n",
        "    order += 1\n",
        "    \n",
        "print(xi_squared)\n",
        "print(sigma_xi_multiply_yi)"
      ],
      "metadata": {
        "colab": {
          "base_uri": "https://localhost:8080/"
        },
        "id": "_nEN46l1CV0H",
        "outputId": "bb05b1b4-42c1-4b5e-ef40-201be231e1e1"
      },
      "execution_count": 22,
      "outputs": [
        {
          "output_type": "stream",
          "name": "stdout",
          "text": [
            "[0, 0.001156000000000002, 0.004096000000000008, 0.015129, 0.04120900000000003, 0.10176099999999996, 0.21996100000000007, 0.37576900000000024, 0.5670089999999999]\n",
            "[0, 98.3252405600001, 504.3705446400005, 1567.636960128, 4915.781465532001, 11332.051031135998, 25574.427807642005, 40790.24325376001, 63340.337761271985]\n"
          ]
        }
      ]
    },
    {
      "cell_type": "markdown",
      "source": [
        "Added x^2 and xi.yi into tabular data that we have made"
      ],
      "metadata": {
        "id": "hIA-esCXWXYv"
      }
    },
    {
      "cell_type": "code",
      "source": [
        "new_data['Xi^2'] = xi_squared\n",
        "new_data['Xi.Yi'] = sigma_xi_multiply_yi\n",
        "new_data"
      ],
      "metadata": {
        "colab": {
          "base_uri": "https://localhost:8080/",
          "height": 332
        },
        "id": "UC7IrqNqET1d",
        "outputId": "e8d0ab64-76b8-4e30-a9de-3df87c1b05ef"
      },
      "execution_count": 23,
      "outputs": [
        {
          "output_type": "execute_result",
          "data": {
            "text/html": [
              "\n",
              "  <div id=\"df-72d1a47e-23d1-418e-99d4-d1425230dff7\">\n",
              "    <div class=\"colab-df-container\">\n",
              "      <div>\n",
              "<style scoped>\n",
              "    .dataframe tbody tr th:only-of-type {\n",
              "        vertical-align: middle;\n",
              "    }\n",
              "\n",
              "    .dataframe tbody tr th {\n",
              "        vertical-align: top;\n",
              "    }\n",
              "\n",
              "    .dataframe thead th {\n",
              "        text-align: right;\n",
              "    }\n",
              "</style>\n",
              "<table border=\"1\" class=\"dataframe\">\n",
              "  <thead>\n",
              "    <tr style=\"text-align: right;\">\n",
              "      <th></th>\n",
              "      <th>Time</th>\n",
              "      <th>Xi</th>\n",
              "      <th>Yi</th>\n",
              "      <th>Xi^2</th>\n",
              "      <th>Xi.Yi</th>\n",
              "    </tr>\n",
              "  </thead>\n",
              "  <tbody>\n",
              "    <tr>\n",
              "      <th>0</th>\n",
              "      <td>1.0</td>\n",
              "      <td>0.000</td>\n",
              "      <td>0.000000</td>\n",
              "      <td>0.000000</td>\n",
              "      <td>0.000000</td>\n",
              "    </tr>\n",
              "    <tr>\n",
              "      <th>1</th>\n",
              "      <td>2.0</td>\n",
              "      <td>0.034</td>\n",
              "      <td>2891.918840</td>\n",
              "      <td>0.001156</td>\n",
              "      <td>98.325241</td>\n",
              "    </tr>\n",
              "    <tr>\n",
              "      <th>2</th>\n",
              "      <td>3.0</td>\n",
              "      <td>0.064</td>\n",
              "      <td>7880.789760</td>\n",
              "      <td>0.004096</td>\n",
              "      <td>504.370545</td>\n",
              "    </tr>\n",
              "    <tr>\n",
              "      <th>3</th>\n",
              "      <td>4.0</td>\n",
              "      <td>0.123</td>\n",
              "      <td>12745.015936</td>\n",
              "      <td>0.015129</td>\n",
              "      <td>1567.636960</td>\n",
              "    </tr>\n",
              "    <tr>\n",
              "      <th>4</th>\n",
              "      <td>5.0</td>\n",
              "      <td>0.203</td>\n",
              "      <td>24215.672244</td>\n",
              "      <td>0.041209</td>\n",
              "      <td>4915.781466</td>\n",
              "    </tr>\n",
              "    <tr>\n",
              "      <th>5</th>\n",
              "      <td>6.0</td>\n",
              "      <td>0.319</td>\n",
              "      <td>35523.670944</td>\n",
              "      <td>0.101761</td>\n",
              "      <td>11332.051031</td>\n",
              "    </tr>\n",
              "    <tr>\n",
              "      <th>6</th>\n",
              "      <td>7.0</td>\n",
              "      <td>0.469</td>\n",
              "      <td>54529.696818</td>\n",
              "      <td>0.219961</td>\n",
              "      <td>25574.427808</td>\n",
              "    </tr>\n",
              "    <tr>\n",
              "      <th>7</th>\n",
              "      <td>8.0</td>\n",
              "      <td>0.613</td>\n",
              "      <td>66541.995520</td>\n",
              "      <td>0.375769</td>\n",
              "      <td>40790.243254</td>\n",
              "    </tr>\n",
              "    <tr>\n",
              "      <th>8</th>\n",
              "      <td>9.0</td>\n",
              "      <td>0.753</td>\n",
              "      <td>84117.314424</td>\n",
              "      <td>0.567009</td>\n",
              "      <td>63340.337761</td>\n",
              "    </tr>\n",
              "  </tbody>\n",
              "</table>\n",
              "</div>\n",
              "      <button class=\"colab-df-convert\" onclick=\"convertToInteractive('df-72d1a47e-23d1-418e-99d4-d1425230dff7')\"\n",
              "              title=\"Convert this dataframe to an interactive table.\"\n",
              "              style=\"display:none;\">\n",
              "        \n",
              "  <svg xmlns=\"http://www.w3.org/2000/svg\" height=\"24px\"viewBox=\"0 0 24 24\"\n",
              "       width=\"24px\">\n",
              "    <path d=\"M0 0h24v24H0V0z\" fill=\"none\"/>\n",
              "    <path d=\"M18.56 5.44l.94 2.06.94-2.06 2.06-.94-2.06-.94-.94-2.06-.94 2.06-2.06.94zm-11 1L8.5 8.5l.94-2.06 2.06-.94-2.06-.94L8.5 2.5l-.94 2.06-2.06.94zm10 10l.94 2.06.94-2.06 2.06-.94-2.06-.94-.94-2.06-.94 2.06-2.06.94z\"/><path d=\"M17.41 7.96l-1.37-1.37c-.4-.4-.92-.59-1.43-.59-.52 0-1.04.2-1.43.59L10.3 9.45l-7.72 7.72c-.78.78-.78 2.05 0 2.83L4 21.41c.39.39.9.59 1.41.59.51 0 1.02-.2 1.41-.59l7.78-7.78 2.81-2.81c.8-.78.8-2.07 0-2.86zM5.41 20L4 18.59l7.72-7.72 1.47 1.35L5.41 20z\"/>\n",
              "  </svg>\n",
              "      </button>\n",
              "      \n",
              "  <style>\n",
              "    .colab-df-container {\n",
              "      display:flex;\n",
              "      flex-wrap:wrap;\n",
              "      gap: 12px;\n",
              "    }\n",
              "\n",
              "    .colab-df-convert {\n",
              "      background-color: #E8F0FE;\n",
              "      border: none;\n",
              "      border-radius: 50%;\n",
              "      cursor: pointer;\n",
              "      display: none;\n",
              "      fill: #1967D2;\n",
              "      height: 32px;\n",
              "      padding: 0 0 0 0;\n",
              "      width: 32px;\n",
              "    }\n",
              "\n",
              "    .colab-df-convert:hover {\n",
              "      background-color: #E2EBFA;\n",
              "      box-shadow: 0px 1px 2px rgba(60, 64, 67, 0.3), 0px 1px 3px 1px rgba(60, 64, 67, 0.15);\n",
              "      fill: #174EA6;\n",
              "    }\n",
              "\n",
              "    [theme=dark] .colab-df-convert {\n",
              "      background-color: #3B4455;\n",
              "      fill: #D2E3FC;\n",
              "    }\n",
              "\n",
              "    [theme=dark] .colab-df-convert:hover {\n",
              "      background-color: #434B5C;\n",
              "      box-shadow: 0px 1px 3px 1px rgba(0, 0, 0, 0.15);\n",
              "      filter: drop-shadow(0px 1px 2px rgba(0, 0, 0, 0.3));\n",
              "      fill: #FFFFFF;\n",
              "    }\n",
              "  </style>\n",
              "\n",
              "      <script>\n",
              "        const buttonEl =\n",
              "          document.querySelector('#df-72d1a47e-23d1-418e-99d4-d1425230dff7 button.colab-df-convert');\n",
              "        buttonEl.style.display =\n",
              "          google.colab.kernel.accessAllowed ? 'block' : 'none';\n",
              "\n",
              "        async function convertToInteractive(key) {\n",
              "          const element = document.querySelector('#df-72d1a47e-23d1-418e-99d4-d1425230dff7');\n",
              "          const dataTable =\n",
              "            await google.colab.kernel.invokeFunction('convertToInteractive',\n",
              "                                                     [key], {});\n",
              "          if (!dataTable) return;\n",
              "\n",
              "          const docLinkHtml = 'Like what you see? Visit the ' +\n",
              "            '<a target=\"_blank\" href=https://colab.research.google.com/notebooks/data_table.ipynb>data table notebook</a>'\n",
              "            + ' to learn more about interactive tables.';\n",
              "          element.innerHTML = '';\n",
              "          dataTable['output_type'] = 'display_data';\n",
              "          await google.colab.output.renderOutput(dataTable, element);\n",
              "          const docLink = document.createElement('div');\n",
              "          docLink.innerHTML = docLinkHtml;\n",
              "          element.appendChild(docLink);\n",
              "        }\n",
              "      </script>\n",
              "    </div>\n",
              "  </div>\n",
              "  "
            ],
            "text/plain": [
              "   Time     Xi            Yi      Xi^2         Xi.Yi\n",
              "0   1.0  0.000      0.000000  0.000000      0.000000\n",
              "1   2.0  0.034   2891.918840  0.001156     98.325241\n",
              "2   3.0  0.064   7880.789760  0.004096    504.370545\n",
              "3   4.0  0.123  12745.015936  0.015129   1567.636960\n",
              "4   5.0  0.203  24215.672244  0.041209   4915.781466\n",
              "5   6.0  0.319  35523.670944  0.101761  11332.051031\n",
              "6   7.0  0.469  54529.696818  0.219961  25574.427808\n",
              "7   8.0  0.613  66541.995520  0.375769  40790.243254\n",
              "8   9.0  0.753  84117.314424  0.567009  63340.337761"
            ]
          },
          "metadata": {},
          "execution_count": 23
        }
      ]
    },
    {
      "cell_type": "markdown",
      "source": [
        "This below code was many equations to count number of times, xi total, yi total, xi^2 total, xi.yi total, xi average, and yi average. After I've coded the equations then show the results"
      ],
      "metadata": {
        "id": "w0stGW5wXPOg"
      }
    },
    {
      "cell_type": "code",
      "source": [
        "index = new_data.index\n",
        "number_of_times = len(index)\n",
        "\n",
        "xi_total = sum(xi)\n",
        "yi_total = sum(yi)\n",
        "xi_squared_total = sum(xi_squared)\n",
        "sigma_xi_multiply_yi_total = sum(sigma_xi_multiply_yi)\n",
        "\n",
        "xi_average = xi_total / number_of_times\n",
        "yi_average = yi_total / number_of_times\n",
        "\n",
        "print(number_of_times, xi_total, yi_total, xi_squared_total, sigma_xi_multiply_yi_total)\n",
        "print(xi_average, yi_average)"
      ],
      "metadata": {
        "colab": {
          "base_uri": "https://localhost:8080/"
        },
        "id": "zSO5ZPHAHhFF",
        "outputId": "5b992278-a384-473c-a893-0a997fa640c6"
      },
      "execution_count": 24,
      "outputs": [
        {
          "output_type": "stream",
          "name": "stdout",
          "text": [
            "9 2.5780000000000003 288446.074486 1.3260900000000002 148123.17406467\n",
            "0.2864444444444445 32049.563831777778\n"
          ]
        }
      ]
    },
    {
      "cell_type": "markdown",
      "source": [
        "a1 equations and the value"
      ],
      "metadata": {
        "id": "2IgIGDyEXrLQ"
      }
    },
    {
      "cell_type": "code",
      "source": [
        "def a1(number_of_times, sigma_xi_multiply_yi_total, xi_total, yi_total, xi_squared_total):\n",
        "  return (((number_of_times * sigma_xi_multiply_yi_total) - (xi_total * yi_total)) / ((number_of_times * xi_squared_total) - (xi_total ** 2)))\n",
        "\n",
        "a1_value = a1(number_of_times, sigma_xi_multiply_yi_total, xi_total, yi_total, xi_squared_total)\n",
        "print(float(a1_value))"
      ],
      "metadata": {
        "colab": {
          "base_uri": "https://localhost:8080/"
        },
        "id": "RDQQto2bJANw",
        "outputId": "8987e914-766f-4acf-c5f6-e3491846a2cd"
      },
      "execution_count": 25,
      "outputs": [
        {
          "output_type": "stream",
          "name": "stdout",
          "text": [
            "111462.4933409524\n"
          ]
        }
      ]
    },
    {
      "cell_type": "markdown",
      "source": [
        "a0 equations and the value"
      ],
      "metadata": {
        "id": "Ty_j9dRMXzFR"
      }
    },
    {
      "cell_type": "code",
      "source": [
        "def a0(yi_average, a1_value, xi_average):\n",
        "  return yi_average - (a1_value * xi_average)\n",
        "\n",
        "a0_value = a0(yi_average, a1_value, xi_average)\n",
        "print(float(a0_value))"
      ],
      "metadata": {
        "colab": {
          "base_uri": "https://localhost:8080/"
        },
        "id": "OGLtXc3EMMaN",
        "outputId": "0c01f209-7170-4ac6-b061-38d020a458c4"
      },
      "execution_count": 26,
      "outputs": [
        {
          "output_type": "stream",
          "name": "stdout",
          "text": [
            "121.7518503360734\n"
          ]
        }
      ]
    },
    {
      "cell_type": "markdown",
      "source": [
        "Yi model equation"
      ],
      "metadata": {
        "id": "Cc5XggmUiqzB"
      }
    },
    {
      "cell_type": "code",
      "source": [
        "print(f\"From the results we can conclude that yi_model = {a1_value}x + {a0_value}\")"
      ],
      "metadata": {
        "colab": {
          "base_uri": "https://localhost:8080/"
        },
        "id": "U78CIx1ni18r",
        "outputId": "cea2e4ff-35cd-4c3a-ac5c-d57b9f8fb037"
      },
      "execution_count": 29,
      "outputs": [
        {
          "output_type": "stream",
          "name": "stdout",
          "text": [
            "From the results we can conclude that yi_model = 111462.4933409524x + 121.7518503360734\n"
          ]
        }
      ]
    },
    {
      "cell_type": "markdown",
      "source": [
        "Yi model calculation"
      ],
      "metadata": {
        "id": "xjKkc2gRX1Rg"
      }
    },
    {
      "cell_type": "code",
      "source": [
        "def y_model(a0_value, a1_value, xi):\n",
        "    return a0_value + (a1_value * xi)"
      ],
      "metadata": {
        "id": "_Q_QNovJNqsa"
      },
      "execution_count": 30,
      "outputs": []
    },
    {
      "cell_type": "code",
      "source": [
        "yi_model = [0]\n",
        "j = 1\n",
        "while j in range(time_init, time_final):\n",
        "    yi_model.append(y_model(a0_value, a1_value, xi[j]))\n",
        "    j += 1\n",
        "    \n",
        "print(yi_model)"
      ],
      "metadata": {
        "colab": {
          "base_uri": "https://localhost:8080/"
        },
        "id": "imQ5qs5NNqp4",
        "outputId": "eac96bd7-325d-4199-a5f7-3f2cdd841b99"
      },
      "execution_count": 31,
      "outputs": [
        {
          "output_type": "stream",
          "name": "stdout",
          "text": [
            "[0, 3911.476623928458, 7255.351424157033, 13831.638531273218, 22748.637998549417, 35678.287226099885, 52397.66122724276, 68448.26026833992, 84053.00933607321]\n"
          ]
        }
      ]
    },
    {
      "cell_type": "markdown",
      "source": [
        "Added yi model into tabular data"
      ],
      "metadata": {
        "id": "NcKNHw3wX7Fg"
      }
    },
    {
      "cell_type": "code",
      "source": [
        "new_data['Yi model'] = yi_model\n",
        "new_data"
      ],
      "metadata": {
        "colab": {
          "base_uri": "https://localhost:8080/",
          "height": 332
        },
        "id": "xDlQ6Q22Nqnh",
        "outputId": "f83e7b6c-f103-4cd9-c9ab-4e336912e6ec"
      },
      "execution_count": 32,
      "outputs": [
        {
          "output_type": "execute_result",
          "data": {
            "text/html": [
              "\n",
              "  <div id=\"df-f14f1821-3408-4a9a-878a-fa02214cd01a\">\n",
              "    <div class=\"colab-df-container\">\n",
              "      <div>\n",
              "<style scoped>\n",
              "    .dataframe tbody tr th:only-of-type {\n",
              "        vertical-align: middle;\n",
              "    }\n",
              "\n",
              "    .dataframe tbody tr th {\n",
              "        vertical-align: top;\n",
              "    }\n",
              "\n",
              "    .dataframe thead th {\n",
              "        text-align: right;\n",
              "    }\n",
              "</style>\n",
              "<table border=\"1\" class=\"dataframe\">\n",
              "  <thead>\n",
              "    <tr style=\"text-align: right;\">\n",
              "      <th></th>\n",
              "      <th>Time</th>\n",
              "      <th>Xi</th>\n",
              "      <th>Yi</th>\n",
              "      <th>Xi^2</th>\n",
              "      <th>Xi.Yi</th>\n",
              "      <th>Yi model</th>\n",
              "    </tr>\n",
              "  </thead>\n",
              "  <tbody>\n",
              "    <tr>\n",
              "      <th>0</th>\n",
              "      <td>1.0</td>\n",
              "      <td>0.000</td>\n",
              "      <td>0.000000</td>\n",
              "      <td>0.000000</td>\n",
              "      <td>0.000000</td>\n",
              "      <td>0.000000</td>\n",
              "    </tr>\n",
              "    <tr>\n",
              "      <th>1</th>\n",
              "      <td>2.0</td>\n",
              "      <td>0.034</td>\n",
              "      <td>2891.918840</td>\n",
              "      <td>0.001156</td>\n",
              "      <td>98.325241</td>\n",
              "      <td>3911.476624</td>\n",
              "    </tr>\n",
              "    <tr>\n",
              "      <th>2</th>\n",
              "      <td>3.0</td>\n",
              "      <td>0.064</td>\n",
              "      <td>7880.789760</td>\n",
              "      <td>0.004096</td>\n",
              "      <td>504.370545</td>\n",
              "      <td>7255.351424</td>\n",
              "    </tr>\n",
              "    <tr>\n",
              "      <th>3</th>\n",
              "      <td>4.0</td>\n",
              "      <td>0.123</td>\n",
              "      <td>12745.015936</td>\n",
              "      <td>0.015129</td>\n",
              "      <td>1567.636960</td>\n",
              "      <td>13831.638531</td>\n",
              "    </tr>\n",
              "    <tr>\n",
              "      <th>4</th>\n",
              "      <td>5.0</td>\n",
              "      <td>0.203</td>\n",
              "      <td>24215.672244</td>\n",
              "      <td>0.041209</td>\n",
              "      <td>4915.781466</td>\n",
              "      <td>22748.637999</td>\n",
              "    </tr>\n",
              "    <tr>\n",
              "      <th>5</th>\n",
              "      <td>6.0</td>\n",
              "      <td>0.319</td>\n",
              "      <td>35523.670944</td>\n",
              "      <td>0.101761</td>\n",
              "      <td>11332.051031</td>\n",
              "      <td>35678.287226</td>\n",
              "    </tr>\n",
              "    <tr>\n",
              "      <th>6</th>\n",
              "      <td>7.0</td>\n",
              "      <td>0.469</td>\n",
              "      <td>54529.696818</td>\n",
              "      <td>0.219961</td>\n",
              "      <td>25574.427808</td>\n",
              "      <td>52397.661227</td>\n",
              "    </tr>\n",
              "    <tr>\n",
              "      <th>7</th>\n",
              "      <td>8.0</td>\n",
              "      <td>0.613</td>\n",
              "      <td>66541.995520</td>\n",
              "      <td>0.375769</td>\n",
              "      <td>40790.243254</td>\n",
              "      <td>68448.260268</td>\n",
              "    </tr>\n",
              "    <tr>\n",
              "      <th>8</th>\n",
              "      <td>9.0</td>\n",
              "      <td>0.753</td>\n",
              "      <td>84117.314424</td>\n",
              "      <td>0.567009</td>\n",
              "      <td>63340.337761</td>\n",
              "      <td>84053.009336</td>\n",
              "    </tr>\n",
              "  </tbody>\n",
              "</table>\n",
              "</div>\n",
              "      <button class=\"colab-df-convert\" onclick=\"convertToInteractive('df-f14f1821-3408-4a9a-878a-fa02214cd01a')\"\n",
              "              title=\"Convert this dataframe to an interactive table.\"\n",
              "              style=\"display:none;\">\n",
              "        \n",
              "  <svg xmlns=\"http://www.w3.org/2000/svg\" height=\"24px\"viewBox=\"0 0 24 24\"\n",
              "       width=\"24px\">\n",
              "    <path d=\"M0 0h24v24H0V0z\" fill=\"none\"/>\n",
              "    <path d=\"M18.56 5.44l.94 2.06.94-2.06 2.06-.94-2.06-.94-.94-2.06-.94 2.06-2.06.94zm-11 1L8.5 8.5l.94-2.06 2.06-.94-2.06-.94L8.5 2.5l-.94 2.06-2.06.94zm10 10l.94 2.06.94-2.06 2.06-.94-2.06-.94-.94-2.06-.94 2.06-2.06.94z\"/><path d=\"M17.41 7.96l-1.37-1.37c-.4-.4-.92-.59-1.43-.59-.52 0-1.04.2-1.43.59L10.3 9.45l-7.72 7.72c-.78.78-.78 2.05 0 2.83L4 21.41c.39.39.9.59 1.41.59.51 0 1.02-.2 1.41-.59l7.78-7.78 2.81-2.81c.8-.78.8-2.07 0-2.86zM5.41 20L4 18.59l7.72-7.72 1.47 1.35L5.41 20z\"/>\n",
              "  </svg>\n",
              "      </button>\n",
              "      \n",
              "  <style>\n",
              "    .colab-df-container {\n",
              "      display:flex;\n",
              "      flex-wrap:wrap;\n",
              "      gap: 12px;\n",
              "    }\n",
              "\n",
              "    .colab-df-convert {\n",
              "      background-color: #E8F0FE;\n",
              "      border: none;\n",
              "      border-radius: 50%;\n",
              "      cursor: pointer;\n",
              "      display: none;\n",
              "      fill: #1967D2;\n",
              "      height: 32px;\n",
              "      padding: 0 0 0 0;\n",
              "      width: 32px;\n",
              "    }\n",
              "\n",
              "    .colab-df-convert:hover {\n",
              "      background-color: #E2EBFA;\n",
              "      box-shadow: 0px 1px 2px rgba(60, 64, 67, 0.3), 0px 1px 3px 1px rgba(60, 64, 67, 0.15);\n",
              "      fill: #174EA6;\n",
              "    }\n",
              "\n",
              "    [theme=dark] .colab-df-convert {\n",
              "      background-color: #3B4455;\n",
              "      fill: #D2E3FC;\n",
              "    }\n",
              "\n",
              "    [theme=dark] .colab-df-convert:hover {\n",
              "      background-color: #434B5C;\n",
              "      box-shadow: 0px 1px 3px 1px rgba(0, 0, 0, 0.15);\n",
              "      filter: drop-shadow(0px 1px 2px rgba(0, 0, 0, 0.3));\n",
              "      fill: #FFFFFF;\n",
              "    }\n",
              "  </style>\n",
              "\n",
              "      <script>\n",
              "        const buttonEl =\n",
              "          document.querySelector('#df-f14f1821-3408-4a9a-878a-fa02214cd01a button.colab-df-convert');\n",
              "        buttonEl.style.display =\n",
              "          google.colab.kernel.accessAllowed ? 'block' : 'none';\n",
              "\n",
              "        async function convertToInteractive(key) {\n",
              "          const element = document.querySelector('#df-f14f1821-3408-4a9a-878a-fa02214cd01a');\n",
              "          const dataTable =\n",
              "            await google.colab.kernel.invokeFunction('convertToInteractive',\n",
              "                                                     [key], {});\n",
              "          if (!dataTable) return;\n",
              "\n",
              "          const docLinkHtml = 'Like what you see? Visit the ' +\n",
              "            '<a target=\"_blank\" href=https://colab.research.google.com/notebooks/data_table.ipynb>data table notebook</a>'\n",
              "            + ' to learn more about interactive tables.';\n",
              "          element.innerHTML = '';\n",
              "          dataTable['output_type'] = 'display_data';\n",
              "          await google.colab.output.renderOutput(dataTable, element);\n",
              "          const docLink = document.createElement('div');\n",
              "          docLink.innerHTML = docLinkHtml;\n",
              "          element.appendChild(docLink);\n",
              "        }\n",
              "      </script>\n",
              "    </div>\n",
              "  </div>\n",
              "  "
            ],
            "text/plain": [
              "   Time     Xi            Yi      Xi^2         Xi.Yi      Yi model\n",
              "0   1.0  0.000      0.000000  0.000000      0.000000      0.000000\n",
              "1   2.0  0.034   2891.918840  0.001156     98.325241   3911.476624\n",
              "2   3.0  0.064   7880.789760  0.004096    504.370545   7255.351424\n",
              "3   4.0  0.123  12745.015936  0.015129   1567.636960  13831.638531\n",
              "4   5.0  0.203  24215.672244  0.041209   4915.781466  22748.637999\n",
              "5   6.0  0.319  35523.670944  0.101761  11332.051031  35678.287226\n",
              "6   7.0  0.469  54529.696818  0.219961  25574.427808  52397.661227\n",
              "7   8.0  0.613  66541.995520  0.375769  40790.243254  68448.260268\n",
              "8   9.0  0.753  84117.314424  0.567009  63340.337761  84053.009336"
            ]
          },
          "metadata": {},
          "execution_count": 32
        }
      ]
    },
    {
      "cell_type": "markdown",
      "source": [
        "Find Sr, St, R^2"
      ],
      "metadata": {
        "id": "PpbaaxdkPSVm"
      }
    },
    {
      "cell_type": "code",
      "source": [
        "def sr(yi, yi_model):\n",
        "  return (yi[0] - yi_model[0])**2 + (yi[1] - yi_model[1])**2 + (yi[2] - yi_model[2])**2 + (yi[3] - yi_model[3])**2 + (yi[4] - yi_model[4])**2 + (yi[5] - yi_model[5])**2 + (yi[6] - yi_model[6])**2 + (yi[7] - yi_model[7])**2 + (yi[8] - yi_model[8])**2\n",
        "\n",
        "sr_value = sr(yi, yi_model)\n",
        "print(float(sr_value))"
      ],
      "metadata": {
        "colab": {
          "base_uri": "https://localhost:8080/"
        },
        "id": "GTPy8pEINqk8",
        "outputId": "9535d9df-1c76-4468-ec91-3d786c80d66d"
      },
      "execution_count": 33,
      "outputs": [
        {
          "output_type": "stream",
          "name": "stdout",
          "text": [
            "12971071.718636902\n"
          ]
        }
      ]
    },
    {
      "cell_type": "code",
      "source": [
        "def st(yi, yi_average):\n",
        "  return (yi[0] - yi_average)**2 + (yi[1] - yi_average)**2 + (yi[2] - yi_average)**2 + (yi[3] - yi_average)**2 + (yi[4] - yi_average)**2 + (yi[5] - yi_average)**2 + (yi[6] - yi_average)**2 + (yi[7] - yi_average)**2 + (yi[8] - yi_average)**2\n",
        "\n",
        "st_value = st(yi, yi_average)\n",
        "print(float(st_value))"
      ],
      "metadata": {
        "colab": {
          "base_uri": "https://localhost:8080/"
        },
        "id": "2r2Y8iETRGfj",
        "outputId": "af844599-1d06-4e48-c026-e48884ba52b8"
      },
      "execution_count": 34,
      "outputs": [
        {
          "output_type": "stream",
          "name": "stdout",
          "text": [
            "7313712165.081776\n"
          ]
        }
      ]
    },
    {
      "cell_type": "code",
      "source": [
        "def r2(sr_value, st_value):\n",
        "  return (st_value - sr_value) / st_value \n",
        "\n",
        "r2(sr_value, st_value)"
      ],
      "metadata": {
        "colab": {
          "base_uri": "https://localhost:8080/"
        },
        "id": "zNeoytYhQwMo",
        "outputId": "94aff08d-0b20-4c20-c0d5-5cfb7936b204"
      },
      "execution_count": 35,
      "outputs": [
        {
          "output_type": "execute_result",
          "data": {
            "text/plain": [
              "0.9982264722174103"
            ]
          },
          "metadata": {},
          "execution_count": 35
        }
      ]
    }
  ],
  "metadata": {
    "interpreter": {
      "hash": "2be5faf79681da6f2a61fdfdd5405d65d042280f7fba6178067603e3a2925119"
    },
    "kernelspec": {
      "display_name": "Python 3.10.0 64-bit",
      "language": "python",
      "name": "python3"
    },
    "language_info": {
      "codemirror_mode": {
        "name": "ipython",
        "version": 3
      },
      "file_extension": ".py",
      "mimetype": "text/x-python",
      "name": "python",
      "nbconvert_exporter": "python",
      "pygments_lexer": "ipython3",
      "version": "3.10.0"
    },
    "orig_nbformat": 4,
    "colab": {
      "name": "Hasil Project.ipynb",
      "provenance": [],
      "collapsed_sections": []
    }
  },
  "nbformat": 4,
  "nbformat_minor": 0
}